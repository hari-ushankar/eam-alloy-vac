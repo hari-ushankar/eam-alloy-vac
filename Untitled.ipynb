{
 "cells": [
  {
   "cell_type": "markdown",
   "metadata": {
    "toc": true
   },
   "source": [
    "<h1>Table of Contents<span class=\"tocSkip\"></span></h1>\n",
    "<div class=\"toc\"><ul class=\"toc-item\"></ul></div>"
   ]
  },
  {
   "cell_type": "code",
   "execution_count": 3,
   "metadata": {},
   "outputs": [
    {
     "name": "stdout",
     "output_type": "stream",
     "text": [
      "--2023-02-02 16:29:22--  https://www.ctcms.nist.gov/potentials/Download/2001--Mishin-Y-Mehl-M-J-Papaconstantopoulos-D-A-et-al--Cu-1/2/Cu01.eam.alloy\n",
      "Resolving www.ctcms.nist.gov (www.ctcms.nist.gov)... 129.6.13.19, 2610:20:6005:13::19\n",
      "Connecting to www.ctcms.nist.gov (www.ctcms.nist.gov)|129.6.13.19|:443... connected.\n",
      "HTTP request sent, awaiting response... 200 OK\n",
      "Length: 780452 (762K)\n",
      "Saving to: ‘Cu01.eam.alloy’\n",
      "\n",
      "Cu01.eam.alloy      100%[===================>] 762.16K  1.19MB/s    in 0.6s    \n",
      "\n",
      "2023-02-02 16:29:23 (1.19 MB/s) - ‘Cu01.eam.alloy’ saved [780452/780452]\n",
      "\n"
     ]
    }
   ],
   "source": [
    "!wget https://www.ctcms.nist.gov/potentials/Download/2001--Mishin-Y-Mehl-M-J-Papaconstantopoulos-D-A-et-al--Cu-1/2/Cu01.eam.alloy"
   ]
  },
  {
   "cell_type": "code",
   "execution_count": 11,
   "metadata": {},
   "outputs": [
    {
     "name": "stderr",
     "output_type": "stream",
     "text": [
      "/home/hari/miniconda3/envs/ase_env/lib/python3.7/site-packages/ase/atoms.py:968: VisibleDeprecationWarning: Use get_global_number_of_atoms() instead\n",
      "  np.VisibleDeprecationWarning)\n"
     ]
    },
    {
     "data": {
      "text/plain": [
       "256"
      ]
     },
     "execution_count": 11,
     "metadata": {},
     "output_type": "execute_result"
    }
   ],
   "source": []
  },
  {
   "cell_type": "code",
   "execution_count": 16,
   "metadata": {},
   "outputs": [
    {
     "data": {
      "text/plain": [
       "0.0"
      ]
     },
     "execution_count": 16,
     "metadata": {},
     "output_type": "execute_result"
    }
   ],
   "source": [
    "Cu.positions[0][0]+= rand(0,1) * 1e-2"
   ]
  },
  {
   "cell_type": "code",
   "execution_count": 38,
   "metadata": {},
   "outputs": [],
   "source": [
    "import numpy as np\n",
    "from ase.io.extxyz import write_extxyz"
   ]
  },
  {
   "cell_type": "code",
   "execution_count": 76,
   "metadata": {},
   "outputs": [
    {
     "data": {
      "text/plain": [
       "521640"
      ]
     },
     "execution_count": 76,
     "metadata": {},
     "output_type": "execute_result"
    }
   ],
   "source": [
    "805 * 648"
   ]
  },
  {
   "cell_type": "code",
   "execution_count": 85,
   "metadata": {},
   "outputs": [
    {
     "data": {
      "text/plain": [
       "37260"
      ]
     },
     "execution_count": 85,
     "metadata": {},
     "output_type": "execute_result"
    }
   ],
   "source": [
    "len(np.arange(0, n_atoms)) * len(np.arange(0,3)) * (1 + 6 + len(np.arange(0, n_atoms)))"
   ]
  },
  {
   "cell_type": "code",
   "execution_count": 80,
   "metadata": {},
   "outputs": [
    {
     "data": {
      "text/plain": [
       "768"
      ]
     },
     "execution_count": 80,
     "metadata": {},
     "output_type": "execute_result"
    }
   ],
   "source": [
    "len(np.arange(0, n_atoms)) * len(np.arange(0,3))"
   ]
  },
  {
   "cell_type": "code",
   "execution_count": 84,
   "metadata": {},
   "outputs": [
    {
     "name": "stderr",
     "output_type": "stream",
     "text": [
      "/home/hari/miniconda3/envs/ase_env/lib/python3.7/site-packages/ase/calculators/lammpsrun.py:191: UserWarning: You are using an old syntax to set 'parameters'.\n",
      "Please use LAMMPSRUN.set().\n",
      "  warnings.warn(self.legacy_warn_string.format(\"parameters\"))\n",
      "/home/hari/miniconda3/envs/ase_env/lib/python3.7/site-packages/ase/atoms.py:968: VisibleDeprecationWarning: Use get_global_number_of_atoms() instead\n",
      "  np.VisibleDeprecationWarning)\n"
     ]
    },
    {
     "name": "stdout",
     "output_type": "stream",
     "text": [
      "Energy  -906.2067125289741\n",
      "Energy  -906.2376320252016\n",
      "Energy  -906.239765266824\n",
      "Energy  -906.2270372130527\n",
      "Energy  -906.2097194473031\n",
      "Energy  -906.2342084643439\n",
      "Energy  -906.226094993895\n",
      "Energy  -906.2384845832953\n",
      "Energy  -906.2399696016412\n",
      "Energy  -906.2326885162662\n",
      "Energy  -906.2347897702813\n",
      "Energy  -906.2231110993115\n",
      "Energy  -906.2188643501769\n",
      "Energy  -906.2141223680744\n",
      "Energy  -906.2359206979627\n",
      "Energy  -906.2223847020684\n",
      "Energy  -906.22866123253\n",
      "Energy  -906.2268765761945\n",
      "Energy  -906.2061111265716\n",
      "Energy  -906.2263850760477\n",
      "Energy  -906.2397461936172\n",
      "Energy  -906.2389962550656\n",
      "Energy  -906.2397615384749\n",
      "Energy  -906.239956980874\n",
      "Energy  -906.2396288539137\n",
      "Energy  -906.2312149929853\n",
      "Energy  -906.236625140665\n",
      "Energy  -906.2199862687663\n",
      "Energy  -906.2271740627976\n",
      "Energy  -906.2144700653378\n",
      "Energy  -906.2180461256808\n",
      "Energy  -906.2381198994135\n",
      "Energy  -906.2329276613186\n",
      "Energy  -906.2348465769476\n",
      "Energy  -906.239737108325\n",
      "Energy  -906.2376762524198\n",
      "Energy  -906.2371460443312\n",
      "Energy  -906.2361081839317\n",
      "Energy  -906.2399674312701\n",
      "Energy  -906.2082098589501\n",
      "Energy  -906.2376711492781\n",
      "Energy  -906.2162045740034\n",
      "Energy  -906.2101398016134\n",
      "Energy  -906.2336888047207\n",
      "Energy  -906.211782768054\n",
      "Energy  -906.2163720649769\n",
      "Energy  -906.226754959119\n",
      "Energy  -906.2391164808294\n",
      "Energy  -906.2392491035429\n",
      "Energy  -906.2398907859451\n",
      "Energy  -906.2354484457235\n",
      "Energy  -906.2243518886928\n",
      "Energy  -906.2391111327636\n",
      "Energy  -906.2269683684831\n",
      "Energy  -906.2212077777365\n",
      "Energy  -906.2229095040376\n",
      "Energy  -906.2354411676238\n",
      "Energy  -906.212124357138\n",
      "Energy  -906.2266256147414\n",
      "Energy  -906.2282709228757\n",
      "Energy  -906.2326818019956\n",
      "Energy  -906.2175814979885\n",
      "Energy  -906.2399854449266\n",
      "Energy  -906.2389864827646\n",
      "Energy  -906.2185947346313\n",
      "Energy  -906.2034598757805\n",
      "Energy  -906.2349961990623\n",
      "Energy  -906.2383115266964\n",
      "Energy  -906.2366865873286\n",
      "Energy  -906.2147129640904\n",
      "Energy  -906.238392158602\n",
      "Energy  -906.2284077101532\n",
      "Energy  -906.2282626778422\n",
      "Energy  -906.2370016192472\n",
      "Energy  -906.2074971217327\n",
      "Energy  -906.2211354940252\n",
      "Energy  -906.2251926229274\n",
      "Energy  -906.2090662914819\n",
      "Energy  -906.2373167076044\n",
      "Energy  -906.2397839184868\n",
      "Energy  -906.2288997388926\n",
      "Energy  -906.2149259990208\n",
      "Energy  -906.2370574087935\n",
      "Energy  -906.239568878286\n",
      "Energy  -906.2391425763644\n",
      "Energy  -906.235465381802\n",
      "Energy  -906.2396815641342\n",
      "Energy  -906.2399805116039\n",
      "Energy  -906.2364753434778\n",
      "Energy  -906.2395086565143\n",
      "Energy  -906.2032861136919\n",
      "Energy  -906.239987023083\n",
      "Energy  -906.2356655777439\n",
      "Energy  -906.2206954149867\n",
      "Energy  -906.2344123284754\n",
      "Energy  -906.2076598109693\n",
      "Energy  -906.2341011820533\n",
      "Energy  -906.2226572933197\n",
      "Energy  -906.2367295073034\n",
      "Energy  -906.2283717933751\n",
      "Energy  -906.2377484658323\n",
      "Energy  -906.2374990829666\n",
      "Energy  -906.2311227829293\n",
      "Energy  -906.219615948537\n",
      "Energy  -906.2251083279277\n",
      "Energy  -906.2303804317166\n",
      "Energy  -906.2253971238765\n",
      "Energy  -906.2266749851431\n",
      "Energy  -906.2377377488833\n",
      "Energy  -906.2388242143616\n",
      "Energy  -906.2398840442648\n",
      "Energy  -906.2310473537058\n",
      "Energy  -906.2161988330088\n",
      "Energy  -906.2399659116215\n",
      "Energy  -906.2397631474321\n",
      "Energy  -906.2058273825909\n",
      "Energy  -906.2291626167985\n",
      "Energy  -906.2373283669086\n",
      "Energy  -906.2064120267946\n",
      "Energy  -906.2261851338817\n",
      "Energy  -906.2244854333367\n",
      "Energy  -906.2222544123792\n",
      "Energy  -906.2138886305257\n",
      "Energy  -906.2383338913316\n",
      "Energy  -906.2103780138275\n",
      "Energy  -906.2300997501922\n",
      "Energy  -906.2129086345145\n",
      "Energy  -906.2369403280838\n",
      "Energy  -906.2290676546643\n",
      "Energy  -906.2388966788868\n",
      "Energy  -906.2167791223095\n",
      "Energy  -906.2227585214148\n",
      "Energy  -906.2219003332002\n",
      "Energy  -906.2298152254139\n",
      "Energy  -906.2139834594244\n",
      "Energy  -906.239311816083\n",
      "Energy  -906.2369649586203\n",
      "Energy  -906.2034616296833\n",
      "Energy  -906.2091111363618\n",
      "Energy  -906.2398707949277\n",
      "Energy  -906.2396536517806\n",
      "Energy  -906.2130129278885\n",
      "Energy  -906.2091418725872\n",
      "Energy  -906.2376493949578\n",
      "Energy  -906.2392425292738\n",
      "Energy  -906.2369077601578\n",
      "Energy  -906.2288231798265\n",
      "Energy  -906.2349567568856\n",
      "Energy  -906.2280373370147\n",
      "Energy  -906.23864729262\n",
      "Energy  -906.2105902605399\n",
      "Energy  -906.2142340810688\n",
      "Energy  -906.2244150501047\n",
      "Energy  -906.2317529032485\n",
      "Energy  -906.2347556547209\n",
      "Energy  -906.210004568929\n",
      "Energy  -906.2393445071206\n",
      "Energy  -906.2270864730318\n",
      "Energy  -906.2168157493863\n",
      "Energy  -906.2088471070185\n",
      "Energy  -906.2224848744938\n",
      "Energy  -906.2391379982798\n",
      "Energy  -906.2282308622955\n",
      "Energy  -906.2232189448109\n",
      "Energy  -906.2189861566465\n",
      "Energy  -906.2325707378138\n",
      "Energy  -906.2340062384559\n",
      "Energy  -906.2357536124898\n",
      "Energy  -906.2228937141757\n",
      "Energy  -906.2371199856964\n",
      "Energy  -906.2380655434386\n",
      "Energy  -906.212649999149\n",
      "Energy  -906.2388344989994\n",
      "Energy  -906.2261453506364\n",
      "Energy  -906.2271998262103\n",
      "Energy  -906.2321970839071\n",
      "Energy  -906.2312328899422\n",
      "Energy  -906.2038162354236\n",
      "Energy  -906.2289549447162\n",
      "Energy  -906.2399161309709\n",
      "Energy  -906.2361377445391\n",
      "Energy  -906.2180301699752\n",
      "Energy  -906.2343228117224\n",
      "Energy  -906.237758046207\n",
      "Energy  -906.2266567103686\n",
      "Energy  -906.2342964516018\n",
      "Energy  -906.2320741122105\n",
      "Energy  -906.2393810039653\n",
      "Energy  -906.2199670634851\n",
      "Energy  -906.2361596114042\n",
      "Energy  -906.2074440288129\n",
      "Energy  -906.233570112927\n",
      "Energy  -906.2329686462137\n",
      "Energy  -906.213973650985\n",
      "Energy  -906.2332795460447\n",
      "Energy  -906.2368497229222\n",
      "Energy  -906.2059840802706\n",
      "Energy  -906.2315214669723\n",
      "Energy  -906.2121142452631\n",
      "Energy  -906.2237054072543\n",
      "Energy  -906.2382378541682\n",
      "Energy  -906.239979344899\n",
      "Energy  -906.2037936415074\n",
      "Energy  -906.2387564097471\n",
      "Energy  -906.2396034657918\n",
      "Energy  -906.2206407590971\n",
      "Energy  -906.213347602973\n",
      "Energy  -906.2100420887643\n",
      "Energy  -906.2398498216164\n",
      "Energy  -906.2375809883686\n",
      "Energy  -906.237485047427\n",
      "Energy  -906.2386921797946\n",
      "Energy  -906.235303043203\n",
      "Energy  -906.210914550767\n",
      "Energy  -906.2359620343195\n",
      "Energy  -906.2399456048973\n",
      "Energy  -906.2187512373093\n",
      "Energy  -906.2380912326574\n",
      "Energy  -906.2398000862293\n",
      "Energy  -906.2281291599711\n",
      "Energy  -906.2380282620563\n",
      "Energy  -906.2387867523088\n",
      "Energy  -906.2380337181983\n",
      "Energy  -906.2381899830402\n",
      "Energy  -906.2307597176956\n",
      "Energy  -906.2101846485093\n",
      "Energy  -906.2328352174356\n",
      "Energy  -906.2327642497839\n",
      "Energy  -906.2046755516993\n",
      "Energy  -906.223374527792\n",
      "Energy  -906.212609579256\n",
      "Energy  -906.220559419865\n",
      "Energy  -906.2288799377875\n",
      "Energy  -906.2096447178051\n",
      "Energy  -906.2152930947217\n",
      "Energy  -906.2377252299273\n",
      "Energy  -906.2082432619479\n",
      "Energy  -906.2253582624373\n",
      "Energy  -906.2393898347232\n",
      "Energy  -906.2229644363745\n",
      "Energy  -906.2392539829073\n",
      "Energy  -906.2170320175325\n",
      "Energy  -906.2340971959069\n",
      "Energy  -906.22147764494\n",
      "Energy  -906.2366223119498\n",
      "Energy  -906.2337858837903\n",
      "Energy  -906.2390374196063\n",
      "Energy  -906.2204972376774\n",
      "Energy  -906.2218883449613\n",
      "Energy  -906.2309933554734\n",
      "Energy  -906.2389551404249\n",
      "Energy  -906.2038944615706\n",
      "Energy  -906.2068417467597\n",
      "Energy  -906.2079458093066\n",
      "Energy  -906.2329904743146\n",
      "Energy  -906.2299443138429\n",
      "Energy  -906.2393429293637\n",
      "Energy  -906.2183471315366\n",
      "Energy  -906.2318766101814\n",
      "Energy  -906.2192021411612\n",
      "Energy  -906.2292399954074\n",
      "Energy  -906.2399269874301\n",
      "Energy  -906.2343635107313\n",
      "Energy  -906.2252358042576\n",
      "Energy  -906.2226120992277\n",
      "Energy  -906.2379623494061\n",
      "Energy  -906.2215421803896\n",
      "Energy  -906.2145273052072\n",
      "Energy  -906.2174990083954\n",
      "Energy  -906.2315024693635\n",
      "Energy  -906.2099807664431\n",
      "Energy  -906.2358302874628\n",
      "Energy  -906.2104698315776\n",
      "Energy  -906.2085075063228\n",
      "Energy  -906.2379575720747\n",
      "Energy  -906.2121223322661\n",
      "Energy  -906.2380847343958\n",
      "Energy  -906.2343314965049\n",
      "Energy  -906.2210798036124\n",
      "Energy  -906.2384131298379\n",
      "Energy  -906.2273025111471\n",
      "Energy  -906.2033419577155\n",
      "Energy  -906.236943006528\n",
      "Energy  -906.2218947626283\n",
      "Energy  -906.2312168207011\n",
      "Energy  -906.2213943357052\n",
      "Energy  -906.2399678451579\n",
      "Energy  -906.2153937287318\n",
      "Energy  -906.2390989696671\n",
      "Energy  -906.2386655531593\n",
      "Energy  -906.2399268994691\n",
      "Energy  -906.2338246824838\n",
      "Energy  -906.2296500937684\n",
      "Energy  -906.2254675986089\n",
      "Energy  -906.2264764774089\n",
      "Energy  -906.2352114302685\n",
      "Energy  -906.2399762120875\n",
      "Energy  -906.2398343530513\n",
      "Energy  -906.2395194427419\n",
      "Energy  -906.2379211036326\n",
      "Energy  -906.2397939388379\n",
      "Energy  -906.2185440708167\n",
      "Energy  -906.2324584209566\n",
      "Energy  -906.2307831895836\n",
      "Energy  -906.2291900323455\n"
     ]
    },
    {
     "name": "stdout",
     "output_type": "stream",
     "text": [
      "Energy  -906.2374974102513\n",
      "Energy  -906.2181034013022\n",
      "Energy  -906.2110689637323\n",
      "Energy  -906.2278905640527\n",
      "Energy  -906.2269066449278\n",
      "Energy  -906.2385804283632\n",
      "Energy  -906.2276803938701\n",
      "Energy  -906.2217442480035\n",
      "Energy  -906.2180640723295\n",
      "Energy  -906.2204273159522\n",
      "Energy  -906.2241307777776\n",
      "Energy  -906.2172419832507\n",
      "Energy  -906.2298336591186\n",
      "Energy  -906.2396432720171\n",
      "Energy  -906.2399894813375\n",
      "Energy  -906.2386482354174\n",
      "Energy  -906.2398875168667\n",
      "Energy  -906.2356085966483\n",
      "Energy  -906.2308016195223\n"
     ]
    }
   ],
   "source": [
    "from ase import Atom, Atoms\n",
    "from ase.build import bulk\n",
    "from ase.calculators.lammpsrun import LAMMPS\n",
    "\n",
    "\n",
    "parameters = {'pair_style': 'eam/alloy',\n",
    "              'pair_coeff': ['* * Cu01.eam.alloy Cu']}\n",
    "files = ['Cu01.eam.alloy']\n",
    "Cu = bulk('Cu', cubic=True,a=3.615).repeat(3)\n",
    "lammps = LAMMPS(parameters=parameters, files=files)\n",
    "n_atoms = Cu.get_number_of_atoms()\n",
    "for i in np.arange(0,n_atoms):\n",
    "    for j in np.arange(0,3):\n",
    "        Cu = bulk('Cu', cubic=True,a=3.615).repeat(4)\n",
    "        Cu.calc = lammps\n",
    "        Cu.positions[i][j]+= np.random.rand() * 1e-1\n",
    "        print(\"Energy \", Cu.get_potential_energy())\n",
    "        Cu.info = {\"config_type\": \"bulk\", \"stress\": Cu.get_stress()}\n",
    "        write_extxyz(fileobj=\"bulk.xyz\", images=Cu)\n",
    "        filenames = [\"bulk.xyz\"]\n",
    "        with open(\"master.xyz\", \"a\") as outfile:\n",
    "            for fname in filenames:\n",
    "                with open(fname) as infile:\n",
    "                    outfile.write(infile.read())"
   ]
  },
  {
   "cell_type": "code",
   "execution_count": 92,
   "metadata": {},
   "outputs": [
    {
     "data": {
      "text/plain": [
       "1.2740402581990793"
      ]
     },
     "execution_count": 92,
     "metadata": {},
     "output_type": "execute_result"
    }
   ],
   "source": [
    " -759.825959741801 - 215 * -3.54"
   ]
  },
  {
   "cell_type": "code",
   "execution_count": 91,
   "metadata": {},
   "outputs": [
    {
     "data": {
      "text/plain": [
       "1.265598487872353"
      ]
     },
     "execution_count": 91,
     "metadata": {},
     "output_type": "execute_result"
    }
   ],
   "source": [
    " -759.825959741801 - 215/256 * -906.229948403704 "
   ]
  },
  {
   "cell_type": "code",
   "execution_count": 52,
   "metadata": {},
   "outputs": [
    {
     "data": {
      "text/plain": [
       "Cell([[0.0, 1.8075, 1.8075], [1.8075, 0.0, 1.8075], [1.8075, 1.8075, 0.0]])"
      ]
     },
     "execution_count": 52,
     "metadata": {},
     "output_type": "execute_result"
    }
   ],
   "source": [
    "Cu_primitive.cell"
   ]
  },
  {
   "cell_type": "code",
   "execution_count": 61,
   "metadata": {},
   "outputs": [],
   "source": [
    "delta = 0.05\n",
    "orthorhombic_deform = np.array((\n",
    "    [delta, 0, 0], [0, -delta, 0], [0, 0, delta ** 2 / (1 - delta ** 2)])\n",
    ")\n",
    "\n",
    "monoclinic_deform = np.array((\n",
    "    [0, delta * 0.5, 0], [delta * 0.5, 0, 0], [0, 0, delta ** 2 / (4 - delta ** 2)])\n",
    ")\n",
    "\n",
    "tet_deform = np.array(([-delta * 0.5, 0, 0], [0, -delta * 0.5, 0], [0, 0, delta]))"
   ]
  },
  {
   "cell_type": "code",
   "execution_count": 62,
   "metadata": {},
   "outputs": [],
   "source": [
    "triclinc_deform = np.array(([0, delta, 0], [delta, 0, 0], [0, 0, 0]))"
   ]
  },
  {
   "cell_type": "code",
   "execution_count": 63,
   "metadata": {},
   "outputs": [],
   "source": [
    "a1 = np.array(([delta, 0, 0], [0, 0, 0], [0, 0, 0]))"
   ]
  },
  {
   "cell_type": "code",
   "execution_count": null,
   "metadata": {},
   "outputs": [],
   "source": [
    "a2 = np.array(([delta, 0, 0], [0, delta, 0], [0, 0, 0]))"
   ]
  },
  {
   "cell_type": "code",
   "execution_count": 73,
   "metadata": {},
   "outputs": [
    {
     "data": {
      "text/plain": [
       "array([[ 0.       , -0.0451875,  0.090375 ],\n",
       "       [-0.0451875,  0.       ,  0.090375 ],\n",
       "       [-0.0451875, -0.0451875,  0.       ]])"
      ]
     },
     "execution_count": 73,
     "metadata": {},
     "output_type": "execute_result"
    }
   ],
   "source": [
    "Cu_primitive.cell @ tet_deform  "
   ]
  },
  {
   "cell_type": "code",
   "execution_count": 72,
   "metadata": {},
   "outputs": [
    {
     "data": {
      "text/plain": [
       "array([[ 0.723    ,  0.       ,  0.       ],\n",
       "       [ 0.       , -0.723    ,  0.       ],\n",
       "       [ 0.       ,  0.       ,  0.0362406]])"
      ]
     },
     "execution_count": 72,
     "metadata": {},
     "output_type": "execute_result"
    }
   ],
   "source": [
    "Cu.cell @ orthorhombic_deform  "
   ]
  },
  {
   "cell_type": "code",
   "execution_count": null,
   "metadata": {},
   "outputs": [],
   "source": [
    "a3 = np.array(([delta, 0, 0], [0, delta, 0], [0, 0, delta]))\n",
    "a4 = np.array(([delta, 0, 0], [0, 0, delta], [0, delta, 0]))\n",
    "a5 = np.array(([delta, delta, 0], [delta, 0, 0], [0, 0, 0]))\n",
    "a5 = np.array(([0, delta, delta], [delta, 0, delta], [delta, delta, 0]))"
   ]
  },
  {
   "cell_type": "code",
   "execution_count": 50,
   "metadata": {},
   "outputs": [],
   "source": [
    "Cu_primitive = bulk('Cu', cubic=False,a=3.615)"
   ]
  },
  {
   "cell_type": "code",
   "execution_count": 44,
   "metadata": {},
   "outputs": [
    {
     "name": "stdout",
     "output_type": "stream",
     "text": [
      "standard rattle\n"
     ]
    }
   ],
   "source": [
    "from ase.build import bulk\n",
    "from ase.io import write\n",
    "from ase.calculators.emt import EMT\n",
    "from hiphive import ClusterSpace, StructureContainer, ForceConstantPotential\n",
    "#from trainstation import Optimizer\n",
    "from hiphive.utilities import prepare_structures\n",
    "from hiphive.structure_generation import (generate_rattled_structures,\n",
    "                                          generate_mc_rattled_structures,\n",
    "                                          generate_phonon_rattled_structures)\n",
    "# parameters\n",
    "alat = 3.615         # lattice parameter\n",
    "size = 6            # supercell size\n",
    "n_structures = 25      # number of configurations to generate\n",
    "\n",
    "# rattle parameters\n",
    "T = 800\n",
    "rattle_std = 0.12\n",
    "min_distance = 0.67 * alat\n",
    "\n",
    "# reference structure\n",
    "prim = bulk('Cu', a=alat)\n",
    "calc = EMT()\n",
    "\n",
    "supercell = prim.repeat(size)\n",
    "reference_positions = supercell.get_positions()\n",
    "write('reference_structure.xyz', supercell)\n",
    "\n",
    "# standard rattle\n",
    "print('standard rattle')\n",
    "structures_rattle = generate_rattled_structures(\n",
    "    supercell, n_structures, rattle_std)\n",
    "write('structures_rattle.extxyz', structures_rattle)\n"
   ]
  },
  {
   "cell_type": "code",
   "execution_count": null,
   "metadata": {},
   "outputs": [],
   "source": []
  }
 ],
 "metadata": {
  "kernelspec": {
   "display_name": "ase_env",
   "language": "python",
   "name": "ase_env"
  },
  "language_info": {
   "codemirror_mode": {
    "name": "ipython",
    "version": 3
   },
   "file_extension": ".py",
   "mimetype": "text/x-python",
   "name": "python",
   "nbconvert_exporter": "python",
   "pygments_lexer": "ipython3",
   "version": "3.7.11"
  },
  "toc": {
   "base_numbering": 1,
   "nav_menu": {},
   "number_sections": true,
   "sideBar": true,
   "skip_h1_title": false,
   "title_cell": "Table of Contents",
   "title_sidebar": "Contents",
   "toc_cell": true,
   "toc_position": {},
   "toc_section_display": true,
   "toc_window_display": false
  }
 },
 "nbformat": 4,
 "nbformat_minor": 4
}
